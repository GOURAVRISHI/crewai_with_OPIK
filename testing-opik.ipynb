{
 "cells": [
  {
   "cell_type": "code",
   "execution_count": null,
   "id": "1f5253d8",
   "metadata": {
    "vscode": {
     "languageId": "plaintext"
    }
   },
   "outputs": [],
   "source": [
    "import os\n",
    "from crewai import Agent, Task, Crew, Process\n",
    "from langchain_google_genai import ChatGoogleGenerativeAI\n",
    "from opik.integrations.crewai import track_crewai\n",
    "from google import genai"
   ]
  },
  {
   "cell_type": "code",
   "execution_count": null,
   "id": "8d0fe1b6",
   "metadata": {
    "vscode": {
     "languageId": "plaintext"
    }
   },
   "outputs": [],
   "source": [
    "from google import genai\n",
    "\n",
    "client = genai.Client(api_key=gemini_key)\n",
    "\n",
    "response = client.models.generate_content(\n",
    "    model=\"gemini-2.0-flash\", contents=\"Explain how AI works in a few words\"\n",
    ")\n",
    "print(response.text)"
   ]
  },
  {
   "cell_type": "code",
   "execution_count": null,
   "id": "42ff834b",
   "metadata": {
    "vscode": {
     "languageId": "plaintext"
    }
   },
   "outputs": [],
   "source": []
  },
  {
   "cell_type": "code",
   "execution_count": null,
   "id": "15d3db2c",
   "metadata": {
    "vscode": {
     "languageId": "plaintext"
    }
   },
   "outputs": [],
   "source": [
    "llm = ChatGoogleGenerativeAI(\n",
    "        model=\"gemini-2.0-flash-exp\",  # or \"gemini-1.5-pro\", \"gemini-1.5-flash\"\n",
    "        google_api_key=gemini_key,\n",
    "        temperature=0.1,\n",
    "        max_tokens=1000,\n",
    "        convert_system_message_to_human=True  # Important for Gemini\n",
    "    )"
   ]
  },
  {
   "cell_type": "code",
   "execution_count": null,
   "id": "cb451820",
   "metadata": {
    "vscode": {
     "languageId": "plaintext"
    }
   },
   "outputs": [],
   "source": [
    "\n",
    "agent = Agent(\n",
    "    role=\"Data Analyst\",\n",
    "    goal=\"Analyze data trends in the market\",\n",
    "    backstory=\"An experienced data analyst with a background in economics\",\n",
    "    verbose=True,\n",
    "    llm=llm,\n",
    "    allow_delegation=False\n",
    ")\n",
    "\n",
    "# Create task\n",
    "task = Task(\n",
    "    description=\"Collect recent market data and identify trends.\",\n",
    "    expected_output=\"A report summarizing key trends in the market.\",\n",
    "    agent=agent\n",
    ")\n",
    "\n",
    "# Create crew\n",
    "crew = Crew(\n",
    "    agents=[agent],\n",
    "    tasks=[task],\n",
    "    process=Process.sequential,\n",
    "    verbose=True\n",
    ")\n",
    "\n",
    "\n",
    "# Initialize Opik tracking\n",
    "track_crewai(project_name=\"crewai-opik-integration-demo-gemini\")\n",
    "\n",
    "\n",
    "# Execute\n",
    "print(\"Starting crew execution...\")\n",
    "result = crew.kickoff()\n",
    "print(\"Result:\", result)\n"
   ]
  },
  {
   "cell_type": "markdown",
   "id": "7cfbb5b7",
   "metadata": {},
   "source": [
    "# Altenative approach"
   ]
  },
  {
   "cell_type": "markdown",
   "id": "acc0ad30",
   "metadata": {},
   "source": []
  }
 ],
 "metadata": {
  "language_info": {
   "name": "python"
  }
 },
 "nbformat": 4,
 "nbformat_minor": 5
}
